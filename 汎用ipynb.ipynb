{
 "cells": [
  {
   "cell_type": "markdown",
   "metadata": {},
   "source": [
    "# 準備"
   ]
  },
  {
   "cell_type": "markdown",
   "metadata": {},
   "source": [
    "## import modules"
   ]
  },
  {
   "cell_type": "code",
   "execution_count": 8,
   "metadata": {
    "ExecuteTime": {
     "end_time": "2022-10-26T03:47:14.702767Z",
     "start_time": "2022-10-26T03:47:14.699757Z"
    }
   },
   "outputs": [],
   "source": [
    "import pandas as pd\n",
    "import datetime\n",
    "import os\n",
    "import time\n",
    "import re\n",
    "\n",
    "import xlsxwriter\n",
    "\n",
    "\n",
    "import glob"
   ]
  },
  {
   "cell_type": "markdown",
   "metadata": {},
   "source": [
    "## 変数指定"
   ]
  },
  {
   "cell_type": "code",
   "execution_count": 9,
   "metadata": {
    "ExecuteTime": {
     "end_time": "2022-10-26T03:47:16.311201Z",
     "start_time": "2022-10-26T03:47:16.308182Z"
    }
   },
   "outputs": [],
   "source": [
    "today = datetime.datetime.now().strftime('%Y%m%d')\n",
    "\n",
    "table_dir = '../../output/renewal_same_item_table/'\n",
    "output_file_name = f'変換前変換後テーブル一覧_{today}dl'"
   ]
  },
  {
   "cell_type": "markdown",
   "metadata": {},
   "source": [
    "## 変数加工"
   ]
  },
  {
   "cell_type": "code",
   "execution_count": 10,
   "metadata": {
    "ExecuteTime": {
     "end_time": "2022-10-26T03:47:19.474436Z",
     "start_time": "2022-10-26T03:47:19.468438Z"
    }
   },
   "outputs": [
    {
     "data": {
      "text/plain": [
       "'../../output/renewal_same_item_table/20221026_1_modify_hamburger_teionsushi'"
      ]
     },
     "execution_count": 10,
     "metadata": {},
     "output_type": "execute_result"
    }
   ],
   "source": [
    "output_excel_path = f'./output/{output_file_name}.xlsx'\n",
    "\n",
    "latest_dir_nm = sorted([dir_name for dir_name in os.listdir(table_dir) if re.search('\\d{8}_\\d{1}', dir_name)], reverse = True)[0]\n",
    "tgt_dir = f'{table_dir}{latest_dir_nm}'\n",
    "tgt_dir"
   ]
  },
  {
   "cell_type": "code",
   "execution_count": 11,
   "metadata": {
    "ExecuteTime": {
     "end_time": "2022-10-26T03:47:21.373598Z",
     "start_time": "2022-10-26T03:47:21.369581Z"
    }
   },
   "outputs": [
    {
     "data": {
      "text/plain": [
       "['baked_noodle',\n",
       " 'bento',\n",
       " 'chilled_bento',\n",
       " 'chilled_sushi',\n",
       " 'cold_noodle',\n",
       " 'fryer',\n",
       " 'hamburger',\n",
       " 'hot_noodle',\n",
       " 'll_bread',\n",
       " 'omusubi',\n",
       " 'pasta',\n",
       " 'plain_bread',\n",
       " 'sandwich',\n",
       " 'sidedish_bread',\n",
       " 'sweet_bread',\n",
       " 'teion_sushi',\n",
       " 'var_roll']"
      ]
     },
     "execution_count": 11,
     "metadata": {},
     "output_type": "execute_result"
    }
   ],
   "source": [
    "os.listdir(f'{table_dir}{tgt_dir}')"
   ]
  },
  {
   "cell_type": "markdown",
   "metadata": {},
   "source": [
    "## 変数一覧"
   ]
  },
  {
   "cell_type": "code",
   "execution_count": 12,
   "metadata": {
    "ExecuteTime": {
     "end_time": "2022-10-26T03:47:23.807771Z",
     "start_time": "2022-10-26T03:47:23.794774Z"
    }
   },
   "outputs": [
    {
     "name": "stdout",
     "output_type": "stream",
     "text": [
      "Variable            Type                          Data/Info\n",
      "-----------------------------------------------------------\n",
      "NamespaceMagics     MetaHasTraits                 <class 'IPython.core.magi<...>mespace.NamespaceMagics'>\n",
      "category            str                           var_roll\n",
      "datetime            module                        <module 'datetime' from '<...>onda3\\\\lib\\\\datetime.py'>\n",
      "df                  DataFrame                        syhn_id bnsk_no_before<...>                   [13]  \n",
      "get_ipython         function                      <function get_ipython at 0x000002ACBDDEF168>\n",
      "getsizeof           builtin_function_or_method    <built-in function getsizeof>\n",
      "glob                module                        <module 'glob' from 'C:\\\\<...>Anaconda3\\\\lib\\\\glob.py'>\n",
      "json                module                        <module 'json' from 'C:\\\\<...>\\lib\\\\json\\\\__init__.py'>\n",
      "latest_dir_nm       str                           20221026_1_modify_hamburger_teionsushi\n",
      "np                  module                        <module 'numpy' from 'C:\\<...>ges\\\\numpy\\\\__init__.py'>\n",
      "os                  module                        <module 'os' from 'C:\\\\Pr<...>\\\\Anaconda3\\\\lib\\\\os.py'>\n",
      "output_excel_path   str                           ./output/変換前変換後テーブル一覧_20221026dl.xlsx\n",
      "output_file_name    str                           変換前変換後テーブル一覧_20221026dl\n",
      "path                str                           ../../output/renewal_same<...>nsk_no_transformation.pkl\n",
      "pd                  module                        <module 'pandas' from 'C:<...>es\\\\pandas\\\\__init__.py'>\n",
      "re                  module                        <module 're' from 'C:\\\\Pr<...>\\\\Anaconda3\\\\lib\\\\re.py'>\n",
      "table_dir           str                           ../../output/renewal_same_item_table/\n",
      "tgt_dir             str                           ../../output/renewal_same<...>dify_hamburger_teionsushi\n",
      "time                module                        <module 'time' (built-in)>\n",
      "today               str                           20221026\n",
      "var_dic_list        function                      <function var_dic_list at 0x000002ACBF3E4318>\n",
      "writer              _XlsxWriter                   <pandas.io.excel._xlsxwri<...>ct at 0x000002ACBF4100C8>\n",
      "xlsxwriter          module                        <module 'xlsxwriter' from<...>xlsxwriter\\\\__init__.py'>\n"
     ]
    }
   ],
   "source": [
    "%whos"
   ]
  },
  {
   "cell_type": "markdown",
   "metadata": {},
   "source": [
    "# 処理"
   ]
  },
  {
   "cell_type": "code",
   "execution_count": null,
   "metadata": {},
   "outputs": [],
   "source": []
  }
 ],
 "metadata": {
  "kernelspec": {
   "display_name": "Python 3 (ipykernel)",
   "language": "python",
   "name": "python3"
  },
  "language_info": {
   "codemirror_mode": {
    "name": "ipython",
    "version": 3
   },
   "file_extension": ".py",
   "mimetype": "text/x-python",
   "name": "python",
   "nbconvert_exporter": "python",
   "pygments_lexer": "ipython3",
   "version": "3.9.7"
  },
  "toc": {
   "base_numbering": 1,
   "nav_menu": {},
   "number_sections": true,
   "sideBar": true,
   "skip_h1_title": false,
   "title_cell": "Table of Contents",
   "title_sidebar": "Contents",
   "toc_cell": false,
   "toc_position": {},
   "toc_section_display": true,
   "toc_window_display": true
  },
  "varInspector": {
   "cols": {
    "lenName": 16,
    "lenType": 16,
    "lenVar": 40
   },
   "kernels_config": {
    "python": {
     "delete_cmd_postfix": "",
     "delete_cmd_prefix": "del ",
     "library": "var_list.py",
     "varRefreshCmd": "print(var_dic_list())"
    },
    "r": {
     "delete_cmd_postfix": ") ",
     "delete_cmd_prefix": "rm(",
     "library": "var_list.r",
     "varRefreshCmd": "cat(var_dic_list()) "
    }
   },
   "types_to_exclude": [
    "module",
    "function",
    "builtin_function_or_method",
    "instance",
    "_Feature"
   ],
   "window_display": false
  }
 },
 "nbformat": 4,
 "nbformat_minor": 4
}
